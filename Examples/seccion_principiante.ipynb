{
 "cells": [
  {
   "attachments": {},
   "cell_type": "markdown",
   "metadata": {},
   "source": [
    "## Hacker Rank Exercices"
   ]
  },
  {
   "attachments": {},
   "cell_type": "markdown",
   "metadata": {},
   "source": [
    "The CITY table:\n",
    "\n",
    "|FIeld|Type|\n",
    "|---|---|\n",
    "|ID|Number|\n",
    "|Name|VARCHAR2(17)|\n",
    "|CountryCode|VARCHAR2(3)|\n",
    "|District|VarChar2(20)|\n",
    "|Population|Number|"
   ]
  },
  {
   "attachments": {},
   "cell_type": "markdown",
   "metadata": {},
   "source": [
    "1. Query all columns for all American cities in the CITY table with populations larger than 100000. The CountryCode for America is USA.\n",
    "\n",
    "#### Select Query I"
   ]
  },
  {
   "cell_type": "code",
   "execution_count": null,
   "metadata": {},
   "outputs": [],
   "source": [
    "# Código SQL\n",
    "SELECT * FROM CITY\n",
    "WHERE CountryCode=\"USA\" AND Population > 100000"
   ]
  },
  {
   "attachments": {},
   "cell_type": "markdown",
   "metadata": {},
   "source": [
    "2. Query the NAME field for all American cities in the CITY table with populations larger than 120000. The CountryCode for America is USA.\n",
    "\n",
    "#### Select Query II"
   ]
  },
  {
   "cell_type": "code",
   "execution_count": null,
   "metadata": {},
   "outputs": [],
   "source": [
    "# Código SQL\n",
    "SELECT NAME FROM CITY\n",
    "WHERE CountryCode='USA' AND Population > 120000"
   ]
  },
  {
   "attachments": {},
   "cell_type": "markdown",
   "metadata": {},
   "source": [
    "3. Query all columns (attributes) for every row in the CITY table.\n",
    "\n",
    "#### Select ALL"
   ]
  },
  {
   "cell_type": "code",
   "execution_count": null,
   "metadata": {},
   "outputs": [],
   "source": [
    "# Código SQL\n",
    "SELECT * FROM CITY"
   ]
  },
  {
   "attachments": {},
   "cell_type": "markdown",
   "metadata": {},
   "source": [
    "4. Query all columns for a city in CITY with the ID 1661.\n",
    "\n",
    "#### SELECT BY ID"
   ]
  },
  {
   "cell_type": "code",
   "execution_count": null,
   "metadata": {},
   "outputs": [],
   "source": [
    "# Código SQL\n",
    "SELECT * FROM CITY\n",
    "WHERE ID=1661"
   ]
  },
  {
   "attachments": {},
   "cell_type": "markdown",
   "metadata": {},
   "source": [
    "5. Query all attributes of every Japanese city in the CITY table. The COUNTRYCODE for Japan is JPN.\n",
    "\n",
    "#### Japanesse Cities' Atributes"
   ]
  },
  {
   "cell_type": "code",
   "execution_count": null,
   "metadata": {},
   "outputs": [],
   "source": [
    "# Código SQL\n",
    "SELECT * FROM CITY\n",
    "WHERE CountryCode=\"JPN\""
   ]
  },
  {
   "attachments": {},
   "cell_type": "markdown",
   "metadata": {},
   "source": [
    "6. Query the names of all the Japanese cities in the CITY table. The COUNTRYCODE for Japan is JPN.\n",
    "\n",
    "#### Japanesse Cities' Names"
   ]
  },
  {
   "cell_type": "code",
   "execution_count": null,
   "metadata": {},
   "outputs": [],
   "source": [
    "SELECT name FROM CITY\n",
    "WHERE CountryCode=\"JPN\""
   ]
  }
 ],
 "metadata": {
  "kernelspec": {
   "display_name": "Python 3",
   "language": "python",
   "name": "python3"
  },
  "language_info": {
   "codemirror_mode": {
    "name": "ipython",
    "version": 3
   },
   "file_extension": ".py",
   "mimetype": "text/x-python",
   "name": "python",
   "nbconvert_exporter": "python",
   "pygments_lexer": "ipython3",
   "version": "3.9.10"
  },
  "orig_nbformat": 4
 },
 "nbformat": 4,
 "nbformat_minor": 2
}
